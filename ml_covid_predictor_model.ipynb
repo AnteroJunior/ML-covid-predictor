{
  "cells": [
    {
      "cell_type": "markdown",
      "metadata": {
        "id": "7DbLlK4nqT0o"
      },
      "source": [
        "**Sars-Cov-2 identificator**\n",
        "\n",
        "This model was trained to identify whether a person might be infected by Sars-Cov-2 or just a simple illness.\n",
        "\n",
        "## Run this model\n",
        "\n",
        "1. Install the requirements.txt\n",
        "\n",
        "`pip install -r requirements.txt`\n",
        "\n",
        "\n"
      ]
    },
    {
      "cell_type": "code",
      "execution_count": 1,
      "metadata": {
        "id": "lgCZ0hRKqC4N"
      },
      "outputs": [],
      "source": [
        "import pickle\n",
        "import pandas as pd\n",
        "from sklearn.naive_bayes import GaussianNB\n",
        "import sqlite3\n",
        "from training_data import data"
      ]
    },
    {
      "cell_type": "code",
      "execution_count": 18,
      "metadata": {
        "id": "C2F0U5OyZ0zg"
      },
      "outputs": [],
      "source": [
        "pip freeze > requirements.txt"
      ]
    },
    {
      "cell_type": "code",
      "execution_count": 2,
      "metadata": {
        "id": "HQHN4b_TIDiM"
      },
      "outputs": [],
      "source": [
        "cnx = sqlite3.connect('covid_data.sqlite')\n",
        "cur = cnx.cursor()"
      ]
    },
    {
      "cell_type": "code",
      "execution_count": 3,
      "metadata": {
        "colab": {
          "base_uri": "https://localhost:8080/"
        },
        "id": "vBsdfYnEIR7K",
        "outputId": "7884cc98-0c93-4747-97fb-704e56df9b50"
      },
      "outputs": [
        {
          "data": {
            "text/plain": [
              "<sqlite3.Cursor at 0x7f385bb9a340>"
            ]
          },
          "execution_count": 3,
          "metadata": {},
          "output_type": "execute_result"
        }
      ],
      "source": [
        "# Creating a table to keep patient informations\n",
        "cur.execute(\"\"\"\n",
        "  CREATE TABLE IF NOT EXISTS patient_data (\n",
        "    id INTEGER NOT NULL PRIMARY KEY AUTOINCREMENT,\n",
        "    fever INTEGER NOT NULL,\n",
        "    fatigue INTEGER NOT NULL,\n",
        "    cough INTEGER NOT NULL,\n",
        "    sneezing INTEGER NOT NULL,\n",
        "    body_aches INTEGER NOT NULL,\n",
        "    runny_nose INTEGER NOT NULL,\n",
        "    sore_throat INTEGER NOT NULL,\n",
        "    diarrhea INTEGER NOT NULL,\n",
        "    headache INTEGER NOT NULL,\n",
        "    shortness_of_breath INTEGER NOT NULL,\n",
        "    result INTEGER NOT NULL\n",
        "  )\n",
        "\"\"\")"
      ]
    },
    {
      "cell_type": "code",
      "execution_count": 4,
      "metadata": {
        "id": "DsWC13leK16C"
      },
      "outputs": [],
      "source": [
        "for i, atributos in enumerate(data['atributos']):\n",
        "  cur.execute(\"\"\"\n",
        "  INSERT INTO patient_data (fever, fatigue, cough, sneezing, body_aches, runny_nose, sore_throat, diarrhea, headache, shortness_of_breath, result)\n",
        "  VALUES (?, ?, ?, ?, ?, ?, ?, ?, ?, ?, ?)\n",
        "  \"\"\", atributos + [data['resultados'][i]])"
      ]
    },
    {
      "cell_type": "code",
      "execution_count": 5,
      "metadata": {
        "id": "PmusN1ezR09h"
      },
      "outputs": [],
      "source": [
        "cnx.commit()"
      ]
    },
    {
      "cell_type": "code",
      "execution_count": 6,
      "metadata": {
        "id": "d5VcdsV1SUTI"
      },
      "outputs": [],
      "source": [
        "# Com o Pandas, iniciar a recuperação de informações\n",
        "df = pd.read_sql_query('SELECT * FROM patient_data', cnx)"
      ]
    },
    {
      "cell_type": "code",
      "execution_count": 7,
      "metadata": {
        "id": "LPlkEs4SSo1Q"
      },
      "outputs": [],
      "source": [
        "# Closing database connection\n",
        "cnx.close()"
      ]
    },
    {
      "cell_type": "code",
      "execution_count": 8,
      "metadata": {
        "id": "pqYVIH1MSvAI"
      },
      "outputs": [],
      "source": [
        "# Removing id column from df\n",
        "df = df.drop('id', axis=1)"
      ]
    },
    {
      "cell_type": "code",
      "execution_count": 9,
      "metadata": {
        "id": "EL_n8SHeTxVB"
      },
      "outputs": [],
      "source": [
        "params_columns = df[df.columns[:-1]]\n",
        "params = params_columns.to_numpy()"
      ]
    },
    {
      "cell_type": "code",
      "execution_count": 10,
      "metadata": {
        "colab": {
          "base_uri": "https://localhost:8080/",
          "height": 74
        },
        "id": "sx0npoFLTggp",
        "outputId": "d840b332-c147-4b0c-8d37-0cf26991ff48"
      },
      "outputs": [
        {
          "data": {
            "text/html": [
              "<style>#sk-container-id-1 {color: black;}#sk-container-id-1 pre{padding: 0;}#sk-container-id-1 div.sk-toggleable {background-color: white;}#sk-container-id-1 label.sk-toggleable__label {cursor: pointer;display: block;width: 100%;margin-bottom: 0;padding: 0.3em;box-sizing: border-box;text-align: center;}#sk-container-id-1 label.sk-toggleable__label-arrow:before {content: \"▸\";float: left;margin-right: 0.25em;color: #696969;}#sk-container-id-1 label.sk-toggleable__label-arrow:hover:before {color: black;}#sk-container-id-1 div.sk-estimator:hover label.sk-toggleable__label-arrow:before {color: black;}#sk-container-id-1 div.sk-toggleable__content {max-height: 0;max-width: 0;overflow: hidden;text-align: left;background-color: #f0f8ff;}#sk-container-id-1 div.sk-toggleable__content pre {margin: 0.2em;color: black;border-radius: 0.25em;background-color: #f0f8ff;}#sk-container-id-1 input.sk-toggleable__control:checked~div.sk-toggleable__content {max-height: 200px;max-width: 100%;overflow: auto;}#sk-container-id-1 input.sk-toggleable__control:checked~label.sk-toggleable__label-arrow:before {content: \"▾\";}#sk-container-id-1 div.sk-estimator input.sk-toggleable__control:checked~label.sk-toggleable__label {background-color: #d4ebff;}#sk-container-id-1 div.sk-label input.sk-toggleable__control:checked~label.sk-toggleable__label {background-color: #d4ebff;}#sk-container-id-1 input.sk-hidden--visually {border: 0;clip: rect(1px 1px 1px 1px);clip: rect(1px, 1px, 1px, 1px);height: 1px;margin: -1px;overflow: hidden;padding: 0;position: absolute;width: 1px;}#sk-container-id-1 div.sk-estimator {font-family: monospace;background-color: #f0f8ff;border: 1px dotted black;border-radius: 0.25em;box-sizing: border-box;margin-bottom: 0.5em;}#sk-container-id-1 div.sk-estimator:hover {background-color: #d4ebff;}#sk-container-id-1 div.sk-parallel-item::after {content: \"\";width: 100%;border-bottom: 1px solid gray;flex-grow: 1;}#sk-container-id-1 div.sk-label:hover label.sk-toggleable__label {background-color: #d4ebff;}#sk-container-id-1 div.sk-serial::before {content: \"\";position: absolute;border-left: 1px solid gray;box-sizing: border-box;top: 0;bottom: 0;left: 50%;z-index: 0;}#sk-container-id-1 div.sk-serial {display: flex;flex-direction: column;align-items: center;background-color: white;padding-right: 0.2em;padding-left: 0.2em;position: relative;}#sk-container-id-1 div.sk-item {position: relative;z-index: 1;}#sk-container-id-1 div.sk-parallel {display: flex;align-items: stretch;justify-content: center;background-color: white;position: relative;}#sk-container-id-1 div.sk-item::before, #sk-container-id-1 div.sk-parallel-item::before {content: \"\";position: absolute;border-left: 1px solid gray;box-sizing: border-box;top: 0;bottom: 0;left: 50%;z-index: -1;}#sk-container-id-1 div.sk-parallel-item {display: flex;flex-direction: column;z-index: 1;position: relative;background-color: white;}#sk-container-id-1 div.sk-parallel-item:first-child::after {align-self: flex-end;width: 50%;}#sk-container-id-1 div.sk-parallel-item:last-child::after {align-self: flex-start;width: 50%;}#sk-container-id-1 div.sk-parallel-item:only-child::after {width: 0;}#sk-container-id-1 div.sk-dashed-wrapped {border: 1px dashed gray;margin: 0 0.4em 0.5em 0.4em;box-sizing: border-box;padding-bottom: 0.4em;background-color: white;}#sk-container-id-1 div.sk-label label {font-family: monospace;font-weight: bold;display: inline-block;line-height: 1.2em;}#sk-container-id-1 div.sk-label-container {text-align: center;}#sk-container-id-1 div.sk-container {/* jupyter's `normalize.less` sets `[hidden] { display: none; }` but bootstrap.min.css set `[hidden] { display: none !important; }` so we also need the `!important` here to be able to override the default hidden behavior on the sphinx rendered scikit-learn.org. See: https://github.com/scikit-learn/scikit-learn/issues/21755 */display: inline-block !important;position: relative;}#sk-container-id-1 div.sk-text-repr-fallback {display: none;}</style><div id=\"sk-container-id-1\" class=\"sk-top-container\"><div class=\"sk-text-repr-fallback\"><pre>GaussianNB()</pre><b>In a Jupyter environment, please rerun this cell to show the HTML representation or trust the notebook. <br />On GitHub, the HTML representation is unable to render, please try loading this page with nbviewer.org.</b></div><div class=\"sk-container\" hidden><div class=\"sk-item\"><div class=\"sk-estimator sk-toggleable\"><input class=\"sk-toggleable__control sk-hidden--visually\" id=\"sk-estimator-id-1\" type=\"checkbox\" checked><label for=\"sk-estimator-id-1\" class=\"sk-toggleable__label sk-toggleable__label-arrow\">GaussianNB</label><div class=\"sk-toggleable__content\"><pre>GaussianNB()</pre></div></div></div></div></div>"
            ],
            "text/plain": [
              "GaussianNB()"
            ]
          },
          "execution_count": 10,
          "metadata": {},
          "output_type": "execute_result"
        }
      ],
      "source": [
        "# Iniciando o fit com GaussianNB\n",
        "ia = GaussianNB()\n",
        "ia.fit(params, df['result'].to_numpy())"
      ]
    },
    {
      "cell_type": "code",
      "execution_count": 17,
      "metadata": {
        "id": "5I2lKqWHZOhI"
      },
      "outputs": [],
      "source": [
        "# Saving trained model\n",
        "# with open('model.pkl', 'wb') as file:\n",
        "#   pickle.dump(ia, file)\n",
        "\n",
        "# Opening trained model\n",
        "# loaded_model = pickle.load(open('model.pkl', 'rb'))"
      ]
    },
    {
      "cell_type": "code",
      "execution_count": null,
      "metadata": {
        "colab": {
          "base_uri": "https://localhost:8080/"
        },
        "id": "UowyQSNcUg_R",
        "outputId": "a427d795-a628-4f69-e3cb-51fd4b403b95"
      },
      "outputs": [],
      "source": [
        "patient_answers = []\n",
        "for i in range(10):\n",
        "  answer = int(input(data['questions'][i]))\n",
        "  patient_answers.append(answer)"
      ]
    },
    {
      "cell_type": "code",
      "execution_count": 16,
      "metadata": {
        "colab": {
          "base_uri": "https://localhost:8080/"
        },
        "id": "S5YFdmwhUATY",
        "outputId": "af01ad31-f02d-4fe3-d513-54ca857e9e20"
      },
      "outputs": [
        {
          "name": "stdout",
          "output_type": "stream",
          "text": [
            "Paciente não apresenta sintomas de covid\n"
          ]
        }
      ],
      "source": [
        "# Predicting according to answers\n",
        "hasCovid = ia.predict([patient_answers])\n",
        "print('Recomenda-se fazer o teste de covid' if hasCovid[0] == 1 else 'Paciente não apresenta sintomas de covid')"
      ]
    }
  ],
  "metadata": {
    "colab": {
      "provenance": []
    },
    "kernelspec": {
      "display_name": "Python 3",
      "name": "python3"
    },
    "language_info": {
      "name": "python",
      "version": "3.11.1"
    }
  },
  "nbformat": 4,
  "nbformat_minor": 0
}
