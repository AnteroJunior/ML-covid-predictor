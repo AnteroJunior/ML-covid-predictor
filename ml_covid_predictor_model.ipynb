{
  "cells": [
    {
      "cell_type": "markdown",
      "metadata": {
        "id": "7DbLlK4nqT0o"
      },
      "source": [
        "**Sars-Cov-2 identificator**\n",
        "\n",
        "This model was trained to identify whether a person might be infected by Sars-Cov-2 or just a simple illness.\n",
        "\n",
        "## Run this model\n",
        "\n",
        "1. Install the requirements.txt\n",
        "\n",
        "`pip install -r requirements.txt`\n",
        "\n",
        "\n"
      ]
    },
    {
      "cell_type": "code",
      "execution_count": 1,
      "metadata": {
        "id": "lgCZ0hRKqC4N"
      },
      "outputs": [],
      "source": [
        "import pickle\n",
        "import pandas as pd\n",
        "from sklearn.naive_bayes import GaussianNB\n",
        "import sqlite3\n",
        "from training_data import data"
      ]
    },
    {
      "cell_type": "code",
      "execution_count": 18,
      "metadata": {
        "id": "C2F0U5OyZ0zg"
      },
      "outputs": [],
      "source": [
        "pip freeze > requirements.txt"
      ]
    },
    {
      "cell_type": "code",
      "execution_count": 2,
      "metadata": {
        "id": "HQHN4b_TIDiM"
      },
      "outputs": [],
      "source": [
        "cnx = sqlite3.connect('covid_data.sqlite')\n",
        "cur = cnx.cursor()"
      ]
    },
    {
      "cell_type": "code",
      "execution_count": null,
      "metadata": {
        "colab": {
          "base_uri": "https://localhost:8080/"
        },
        "id": "vBsdfYnEIR7K",
        "outputId": "7884cc98-0c93-4747-97fb-704e56df9b50"
      },
      "outputs": [],
      "source": [
        "# Creating a table to keep patient informations\n",
        "cur.execute(\"\"\"\n",
        "  CREATE TABLE IF NOT EXISTS patient_data (\n",
        "    id INTEGER NOT NULL PRIMARY KEY AUTOINCREMENT,\n",
        "    fever INTEGER NOT NULL,\n",
        "    fatigue INTEGER NOT NULL,\n",
        "    cough INTEGER NOT NULL,\n",
        "    sneezing INTEGER NOT NULL,\n",
        "    body_aches INTEGER NOT NULL,\n",
        "    runny_nose INTEGER NOT NULL,\n",
        "    sore_throat INTEGER NOT NULL,\n",
        "    diarrhea INTEGER NOT NULL,\n",
        "    headache INTEGER NOT NULL,\n",
        "    shortness_of_breath INTEGER NOT NULL,\n",
        "    result INTEGER NOT NULL\n",
        "  )\n",
        "\"\"\")"
      ]
    },
    {
      "cell_type": "code",
      "execution_count": 4,
      "metadata": {
        "id": "DsWC13leK16C"
      },
      "outputs": [],
      "source": [
        "for i, atributos in enumerate(data['atributos']):\n",
        "  cur.execute(\"\"\"\n",
        "  INSERT INTO patient_data (fever, fatigue, cough, sneezing, body_aches, runny_nose, sore_throat, diarrhea, headache, shortness_of_breath, result)\n",
        "  VALUES (?, ?, ?, ?, ?, ?, ?, ?, ?, ?, ?)\n",
        "  \"\"\", atributos + [data['resultados'][i]])"
      ]
    },
    {
      "cell_type": "code",
      "execution_count": 5,
      "metadata": {
        "id": "PmusN1ezR09h"
      },
      "outputs": [],
      "source": [
        "cnx.commit()"
      ]
    },
    {
      "cell_type": "code",
      "execution_count": 6,
      "metadata": {
        "id": "d5VcdsV1SUTI"
      },
      "outputs": [],
      "source": [
        "# Com o Pandas, iniciar a recuperação de informações\n",
        "df = pd.read_sql_query('SELECT * FROM patient_data', cnx)"
      ]
    },
    {
      "cell_type": "code",
      "execution_count": 7,
      "metadata": {
        "id": "LPlkEs4SSo1Q"
      },
      "outputs": [],
      "source": [
        "# Closing database connection\n",
        "cnx.close()"
      ]
    },
    {
      "cell_type": "code",
      "execution_count": 8,
      "metadata": {
        "id": "pqYVIH1MSvAI"
      },
      "outputs": [],
      "source": [
        "# Removing id column from df\n",
        "df = df.drop('id', axis=1)"
      ]
    },
    {
      "cell_type": "code",
      "execution_count": 9,
      "metadata": {
        "id": "EL_n8SHeTxVB"
      },
      "outputs": [],
      "source": [
        "params_columns = df[df.columns[:-1]]\n",
        "params = params_columns.to_numpy()"
      ]
    },
    {
      "cell_type": "code",
      "execution_count": null,
      "metadata": {
        "colab": {
          "base_uri": "https://localhost:8080/",
          "height": 74
        },
        "id": "sx0npoFLTggp",
        "outputId": "d840b332-c147-4b0c-8d37-0cf26991ff48"
      },
      "outputs": [],
      "source": [
        "# Iniciando o fit com GaussianNB\n",
        "ia = GaussianNB()\n",
        "ia.fit(params, df['result'].to_numpy())"
      ]
    },
    {
      "cell_type": "code",
      "execution_count": 17,
      "metadata": {
        "id": "5I2lKqWHZOhI"
      },
      "outputs": [],
      "source": [
        "# Saving trained model\n",
        "# with open('model.pkl', 'wb') as file:\n",
        "#   pickle.dump(ia, file)\n",
        "\n",
        "# Opening trained model\n",
        "# loaded_model = pickle.load(open('model.pkl', 'rb'))"
      ]
    },
    {
      "cell_type": "code",
      "execution_count": null,
      "metadata": {
        "colab": {
          "base_uri": "https://localhost:8080/"
        },
        "id": "UowyQSNcUg_R",
        "outputId": "a427d795-a628-4f69-e3cb-51fd4b403b95"
      },
      "outputs": [],
      "source": [
        "patient_answers = []\n",
        "for i in range(10):\n",
        "  answer = int(input(data['questions'][i]))\n",
        "  patient_answers.append(answer)"
      ]
    },
    {
      "cell_type": "code",
      "execution_count": null,
      "metadata": {
        "colab": {
          "base_uri": "https://localhost:8080/"
        },
        "id": "S5YFdmwhUATY",
        "outputId": "af01ad31-f02d-4fe3-d513-54ca857e9e20"
      },
      "outputs": [],
      "source": [
        "# Predicting according to answers\n",
        "hasCovid = ia.predict([patient_answers])\n",
        "print('Recomenda-se fazer o teste de covid' if hasCovid[0] == 1 else 'Paciente não apresenta sintomas de covid')"
      ]
    }
  ],
  "metadata": {
    "colab": {
      "provenance": []
    },
    "kernelspec": {
      "display_name": "Python 3",
      "name": "python3"
    },
    "language_info": {
      "name": "python",
      "version": "3.11.1"
    }
  },
  "nbformat": 4,
  "nbformat_minor": 0
}
